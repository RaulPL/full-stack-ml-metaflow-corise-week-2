{
 "cells": [
  {
   "attachments": {},
   "cell_type": "markdown",
   "metadata": {},
   "source": [
    "# Week 2 Project"
   ]
  },
  {
   "attachments": {},
   "cell_type": "markdown",
   "metadata": {},
   "source": [
    "Once again, we’ll be using the [Women's Ecommerce Clothing Reviews Dataset from Kaggle](https://www.kaggle.com/datasets/nicapotato/womens-ecommerce-clothing-reviews), which Kaggle states is a \n",
    "\n",
    "> dataset revolving around the reviews written by customers. Its nine supportive features offer a great environment to parse out the text through its multiple dimensions. Because this is real commercial data, it has been anonymized, and references to the company in the review text and body have been replaced with “retailer”. \n",
    "\n",
    "The machine learning task will be sentiment analysis, classifying each review as having positive or negative sentiment."
   ]
  },
  {
   "attachments": {},
   "cell_type": "markdown",
   "metadata": {},
   "source": [
    "## Task 1: Training and Evaluating Sentiment Analysis Models Using Metaflow\n",
    "\n",
    "In this task, you'll use Metaflow to build two machine learning models for sentiment analysis: a baseline *\"majority class\"* classifier and your own custom model. You'll then train both models in parallel and experiment with different hyperparameters to optimize their performance. Finally, you'll use this notebook and the Metaflow Client API to analyze the results of your different models and hyperparameters. Here's what you'll need to do:\n",
    "\n",
    "### Step 1: Build the Workflows\n",
    "The first step in this task is to build the workflow(s) for sentiment analysis using the Metaflow framework. Start by creating a new flow in Metaflow and implementing the baseline *\"majority class\"* classifier. Then, build your own custom classifier using techniques you learned in Week 1, or any [helpful resources](https://outerbounds.com/docs/nlp-tutorial-L2/) you'd like. For your custom model, be sure to include steps for data preprocessing, model training, and evaluation.\n",
    "\n",
    "### Step 2: Train Both Models in Parallel\n",
    "Once you've built your models, the next step is to train both models in parallel using the Metaflow framework. Use Metaflow to run both training jobs in parallel steps. If you get stuck, you may want to review the [FlowSpec branching documentation](https://docs.metaflow.org/metaflow/basics#branch).\n",
    "\n",
    "### Step 3: Experiment with Hyperparameters\n",
    "After you've trained both models in parallel, the next step is to experiment with different hyperparameters to optimize their performance. Try different values for hyperparameters such as learning rate, batch size, and number of epochs, and record the results for each combination of hyperparameters as Data Artifacts in Metaflow.\n",
    "\n",
    "### Step 4: Analyze the Results\n",
    "Finally, use this notebook and the Metaflow Client API to analyze the results of your different models and hyperparameters. Create visualizations to compare the performance of the two models and identify the best hyperparameters for each one.\n",
    "\n",
    "By completing this task, you'll gain experience working with the Metaflow framework and learn how to build and optimize machine learning workflows for sentiment analysis."
   ]
  },
  {
   "cell_type": "code",
   "execution_count": 1,
   "metadata": {
    "ExecuteTime": {
     "end_time": "2023-05-08T02:42:02.042682962Z",
     "start_time": "2023-05-08T02:42:01.957826323Z"
    }
   },
   "outputs": [],
   "source": [
    "from collections import Counter\n",
    "import pandas as pd\n",
    "import numpy as np \n",
    "from termcolor import colored\n",
    "import matplotlib.pyplot as plt\n",
    "import seaborn as sns\n",
    "import string\n",
    "from sklearn.model_selection import train_test_split\n",
    "from sklearn.metrics import accuracy_score, roc_auc_score\n",
    "\n",
    "\n",
    "# You can style your plots here, but it is not part of the project.\n",
    "YELLOW = '#FFBC00'\n",
    "GREEN = '#37795D'\n",
    "PURPLE = '#5460C0'\n",
    "BACKGROUND = '#F4EBE6'\n",
    "colors = [GREEN, PURPLE]\n",
    "custom_params = {\n",
    "    'axes.spines.right': False, 'axes.spines.top': False,\n",
    "    'axes.facecolor':BACKGROUND, 'figure.facecolor': BACKGROUND, \n",
    "    'figure.figsize':(8, 8)\n",
    "}\n",
    "sns_palette = sns.color_palette(colors, len(colors))\n",
    "sns.set_theme(style='ticks', rc=custom_params)"
   ]
  },
  {
   "cell_type": "code",
   "execution_count": 2,
   "metadata": {
    "ExecuteTime": {
     "end_time": "2023-05-08T02:42:02.295322648Z",
     "start_time": "2023-05-08T02:42:02.048674636Z"
    }
   },
   "outputs": [],
   "source": [
    "def labeling_function(row):\n",
    "    if row['rating'] > 4:\n",
    "        return 1\n",
    "    return 0\n",
    "\n",
    "\n",
    "# TODO: load the data.\n",
    "df = pd.read_csv(\n",
    "    '../../full-stack-ml-metaflow-corise-week-1/data/Womens Clothing E-Commerce Reviews.csv',\n",
    "    index_col=0\n",
    ")\n",
    "\n",
    "# transformations\n",
    "df.columns = [\"_\".join(name.lower().strip().split()) for name in df.columns]\n",
    "df = df[~df.review_text.isna()]\n",
    "df['review'] = df['review_text'].astype('str')\n",
    "_has_review_df = df[df['review_text'] != 'nan']\n",
    "reviews = _has_review_df['review_text']\n",
    "labels = _has_review_df.apply(labeling_function, axis=1)\n",
    "df = pd.DataFrame({'label': labels, **_has_review_df})\n",
    "\n",
    "# split into training and validation.\n",
    "_df = pd.DataFrame({'review': reviews, 'label': labels})\n",
    "traindf, valdf = train_test_split(_df, test_size=0.2)"
   ]
  },
  {
   "cell_type": "code",
   "execution_count": 3,
   "metadata": {
    "ExecuteTime": {
     "end_time": "2023-05-08T02:49:53.060030797Z",
     "start_time": "2023-05-08T02:49:53.016130192Z"
    }
   },
   "outputs": [
    {
     "name": "stdout",
     "output_type": "stream",
     "text": [
      "label\n",
      "1    10058\n",
      "0     8054\n",
      "dtype: int64\n",
      "Majority Class: 1\n",
      "Baseline Accuracy: 0.5480238463236917\n",
      "Baseline ROC AUC: 0.5\n"
     ]
    }
   ],
   "source": [
    "# TODO: build the majority class baseline model. \n",
    "# TODO: find the majority class in the labels. 🤔\n",
    "# TODO: score the model on valdf with a 2D metric space: sklearn.metrics.accuracy_score, sklearn.metrics.roc_auc_score\n",
    "    # Documentation on suggested model-scoring approach: https://scikit-learn.org/stable/modules/model_evaluation.html\n",
    "\n",
    "print(traindf.value_counts('label'))\n",
    "majority_class_pred = int(_df.value_counts('label').index[0])\n",
    "print(f'Majority Class: {majority_class_pred}')\n",
    "baseline_preds = np.ones(valdf.shape[0]) * majority_class_pred\n",
    "baseline_accuracy = accuracy_score(valdf['label'], baseline_preds)\n",
    "baseline_roc_auc = roc_auc_score(valdf['label'], baseline_preds)\n",
    "print(f'Baseline Accuracy: {baseline_accuracy}')\n",
    "print(f'Baseline ROC AUC: {baseline_roc_auc}')"
   ]
  },
  {
   "cell_type": "code",
   "execution_count": 4,
   "metadata": {
    "ExecuteTime": {
     "end_time": "2023-05-08T02:42:02.312495293Z",
     "start_time": "2023-05-08T02:42:02.304804216Z"
    }
   },
   "outputs": [
    {
     "name": "stdout",
     "output_type": "stream",
     "text": [
      "Overwriting model.py\n"
     ]
    }
   ],
   "source": [
    "%%writefile model.py\n",
    "# TODO: modify this custom model to your liking. Check out this tutorial for more on this class: https://outerbounds.com/docs/nlp-tutorial-L2/\n",
    "# TODO: train the model on traindf.\n",
    "# TODO: score the model on valdf with _the same_ 2D metric space you used in previous cell.\n",
    "# TODO: test your model works by importing the model module in notebook cells, and trying to fit traindf and score predictions on the valdf data!\n",
    "\n",
    "import tensorflow as tf\n",
    "from tensorflow.keras import layers, optimizers, regularizers\n",
    "from sklearn.base import BaseEstimator, ClassifierMixin\n",
    "from sklearn.metrics import accuracy_score, roc_auc_score\n",
    "from sklearn.feature_extraction.text import CountVectorizer\n",
    "\n",
    "class NbowModel():\n",
    "    def __init__(self, vocab_sz):\n",
    "\n",
    "        self.vocab_sz = vocab_sz\n",
    "\n",
    "        # Instantiate the CountVectorizer\n",
    "        self.cv = CountVectorizer(\n",
    "            min_df=.005, max_df = .75, stop_words='english', \n",
    "            strip_accents='ascii', max_features=self.vocab_sz\n",
    "        )\n",
    "\n",
    "        # Define the keras model\n",
    "        inputs = tf.keras.Input(shape=(self.vocab_sz,), \n",
    "                                name='input')\n",
    "        x = layers.Dropout(0.10)(inputs)\n",
    "        x = layers.Dense(\n",
    "            15, activation=\"relu\",\n",
    "            kernel_regularizer=regularizers.L1L2(l1=1e-5, l2=1e-4)\n",
    "        )(x)\n",
    "        predictions = layers.Dense(1, activation=\"sigmoid\",)(x)\n",
    "        self.model = tf.keras.Model(inputs, predictions)\n",
    "        opt = optimizers.Adam(learning_rate=0.002)\n",
    "        self.model.compile(loss=\"binary_crossentropy\", \n",
    "                           optimizer=opt, metrics=[\"accuracy\"])\n",
    "\n",
    "    def fit(self, X, y):\n",
    "        print(X.shape)\n",
    "        print(X[0])\n",
    "        res = self.cv.fit_transform(X).toarray()\n",
    "        self.model.fit(x=res, y=y, batch_size=32, \n",
    "                       epochs=10, validation_split=.2)\n",
    "    \n",
    "    def predict(self, X):\n",
    "        print(X.shape)\n",
    "        res = self.cv.transform(X).toarray()\n",
    "        return self.model.predict(res)\n",
    "    \n",
    "    def eval_acc(self, X, labels, threshold=.5):\n",
    "        return accuracy_score(labels, \n",
    "                              self.predict(X) > threshold)\n",
    "    \n",
    "    def eval_rocauc(self, X, labels):\n",
    "        return roc_auc_score(labels,  self.predict(X))\n",
    "\n",
    "    @property\n",
    "    def model_dict(self): \n",
    "        return {'vectorizer':self.cv, 'model': self.model}\n",
    "\n",
    "    @classmethod\n",
    "    def from_dict(cls, model_dict):\n",
    "        \"\"\"Get Model from dictionary\"\"\"\n",
    "        nbow_model = cls(len(\n",
    "            model_dict['vectorizer'].vocabulary_\n",
    "        ))\n",
    "        nbow_model.model = model_dict['model']\n",
    "        nbow_model.cv = model_dict['vectorizer']\n",
    "        return nbow_model"
   ]
  },
  {
   "cell_type": "code",
   "execution_count": 5,
   "metadata": {
    "ExecuteTime": {
     "end_time": "2023-05-08T02:42:08.331117741Z",
     "start_time": "2023-05-08T02:42:02.312129657Z"
    },
    "collapsed": false
   },
   "outputs": [
    {
     "name": "stderr",
     "output_type": "stream",
     "text": [
      "2023-05-08 04:38:38.525764: I tensorflow/core/platform/cpu_feature_guard.cc:142] This TensorFlow binary is optimized with oneAPI Deep Neural Network Library (oneDNN) to use the following CPU instructions in performance-critical operations:  SSE4.1 SSE4.2 AVX AVX2 AVX512F FMA\n",
      "To enable them in other operations, rebuild TensorFlow with the appropriate compiler flags.\n"
     ]
    },
    {
     "name": "stdout",
     "output_type": "stream",
     "text": [
      "(18112,)\n",
      "Absolutely wonderful - silky and sexy and comfortable\n"
     ]
    },
    {
     "name": "stderr",
     "output_type": "stream",
     "text": [
      "2023-05-08 04:38:39.278700: I tensorflow/compiler/mlir/mlir_graph_optimization_pass.cc:116] None of the MLIR optimization passes are enabled (registered 2)\n",
      "2023-05-08 04:38:39.296940: I tensorflow/core/platform/profile_utils/cpu_utils.cc:112] CPU Frequency: 2499995000 Hz\n"
     ]
    },
    {
     "name": "stdout",
     "output_type": "stream",
     "text": [
      "Epoch 1/10\n",
      "453/453 [==============================] - 1s 2ms/step - loss: 0.5856 - accuracy: 0.7047 - val_loss: 0.5030 - val_accuracy: 0.7701\n",
      "Epoch 2/10\n",
      "453/453 [==============================] - 0s 1ms/step - loss: 0.4945 - accuracy: 0.7732 - val_loss: 0.5023 - val_accuracy: 0.7690\n",
      "Epoch 3/10\n",
      "453/453 [==============================] - 0s 1ms/step - loss: 0.4702 - accuracy: 0.7866 - val_loss: 0.5020 - val_accuracy: 0.7701\n",
      "Epoch 4/10\n",
      "453/453 [==============================] - 0s 1ms/step - loss: 0.4692 - accuracy: 0.7904 - val_loss: 0.5041 - val_accuracy: 0.7704\n",
      "Epoch 5/10\n",
      "453/453 [==============================] - 0s 1ms/step - loss: 0.4654 - accuracy: 0.7863 - val_loss: 0.5052 - val_accuracy: 0.7681\n",
      "Epoch 6/10\n",
      "453/453 [==============================] - 0s 1ms/step - loss: 0.4544 - accuracy: 0.7964 - val_loss: 0.5116 - val_accuracy: 0.7681\n",
      "Epoch 7/10\n",
      "453/453 [==============================] - 0s 1ms/step - loss: 0.4345 - accuracy: 0.8147 - val_loss: 0.5163 - val_accuracy: 0.7618\n",
      "Epoch 8/10\n",
      "453/453 [==============================] - 0s 1ms/step - loss: 0.4331 - accuracy: 0.8174 - val_loss: 0.5218 - val_accuracy: 0.7657\n",
      "Epoch 9/10\n",
      "453/453 [==============================] - 1s 1ms/step - loss: 0.4185 - accuracy: 0.8270 - val_loss: 0.5314 - val_accuracy: 0.7563\n",
      "Epoch 10/10\n",
      "453/453 [==============================] - 0s 1ms/step - loss: 0.4092 - accuracy: 0.8314 - val_loss: 0.5334 - val_accuracy: 0.7626\n"
     ]
    }
   ],
   "source": [
    "from model import NbowModel\n",
    "model = NbowModel(vocab_sz=500)\n",
    "model.fit(X=traindf['review'], y=traindf['label'])"
   ]
  },
  {
   "cell_type": "code",
   "execution_count": 6,
   "metadata": {
    "ExecuteTime": {
     "end_time": "2023-05-08T02:42:08.722459423Z",
     "start_time": "2023-05-08T02:42:08.330872093Z"
    },
    "collapsed": false
   },
   "outputs": [
    {
     "name": "stdout",
     "output_type": "stream",
     "text": [
      "(4529,)\n",
      "(4529,)\n",
      "Accuracy: 0.7595495694413777\n",
      "ROC AUC: 0.8324414534034399\n"
     ]
    }
   ],
   "source": [
    "acc = model.eval_acc(valdf['review'], valdf['label'])\n",
    "rocauc = model.eval_rocauc(valdf['review'], valdf['label'])\n",
    "print(f'Accuracy: {acc}')\n",
    "print(f'ROC AUC: {rocauc}')"
   ]
  },
  {
   "cell_type": "code",
   "execution_count": 7,
   "metadata": {
    "ExecuteTime": {
     "end_time": "2023-05-08T03:16:16.451079572Z",
     "start_time": "2023-05-08T03:16:16.407882720Z"
    }
   },
   "outputs": [
    {
     "name": "stdout",
     "output_type": "stream",
     "text": [
      "Overwriting baseline_challenge.py\n"
     ]
    }
   ],
   "source": [
    "%%writefile baseline_challenge.py\n",
    "# TODO: In this cell, write your BaselineChallenge flow in the baseline_challenge.py file.\n",
    "\n",
    "from metaflow import FlowSpec, step, Flow, current, Parameter, IncludeFile, card, current\n",
    "from metaflow.cards import Table, Markdown, Artifact, Image\n",
    "import numpy as np \n",
    "from dataclasses import dataclass\n",
    "\n",
    "labeling_function = lambda row: 1 if row['rating'] > 4 else 0 # TODO: Define your labeling function here.\n",
    "\n",
    "@dataclass\n",
    "class ModelResult:\n",
    "    \"\"\"A custom struct for storing model evaluation results.\"\"\"\n",
    "    name: None\n",
    "    params: None\n",
    "    pathspec: None\n",
    "    acc: None\n",
    "    rocauc: None\n",
    "\n",
    "class BaselineChallenge(FlowSpec):\n",
    "\n",
    "    split_size = Parameter('split-sz', default=0.2)\n",
    "    data = IncludeFile('data', default='Womens Clothing E-Commerce Reviews.csv')\n",
    "    kfold = Parameter('k', default=5)\n",
    "    scoring = Parameter('scoring', default='accuracy')\n",
    "\n",
    "    @step\n",
    "    def start(self):\n",
    "\n",
    "        import pandas as pd\n",
    "        import io \n",
    "        from sklearn.model_selection import train_test_split\n",
    "        \n",
    "        # load dataset packaged with the flow.\n",
    "        # this technique is convenient when working with small datasets that need to move to remove tasks.\n",
    "        df = pd.read_csv(io.StringIO(self.data), index_col=0)\n",
    "        # TODO: load the data. \n",
    "        # Look up a few lines to the IncludeFile('data', default='Womens Clothing E-Commerce Reviews.csv'). \n",
    "        # You can find documentation on IncludeFile here: https://docs.metaflow.org/scaling/data#data-in-local-files\n",
    "\n",
    "\n",
    "        # filter down to reviews and labels \n",
    "        df.columns = [\"_\".join(name.lower().strip().split()) for name in df.columns]\n",
    "        df = df[~df.review_text.isna()]\n",
    "        df['review'] = df['review_text'].astype('str')\n",
    "        _has_review_df = df[df['review_text'] != 'nan']\n",
    "        reviews = _has_review_df['review_text']\n",
    "        labels = _has_review_df.apply(labeling_function, axis=1)\n",
    "        self.df = pd.DataFrame({'label': labels, **_has_review_df})\n",
    "\n",
    "        # split the data 80/20, or by using the flow's split-sz CLI argument\n",
    "        _df = pd.DataFrame({'review': reviews, 'label': labels})\n",
    "        self.traindf, self.valdf = train_test_split(_df, test_size=self.split_size)\n",
    "        print(f'num of rows in train set: {self.traindf.shape[0]}')\n",
    "        print(f'num of rows in validation set: {self.valdf.shape[0]}')\n",
    "\n",
    "        self.next(self.baseline, self.model)\n",
    "\n",
    "    @step\n",
    "    def baseline(self):\n",
    "        \"\"\"Compute the baseline\"\"\"\n",
    "\n",
    "        from sklearn.metrics import accuracy_score, roc_auc_score\n",
    "        self._name = \"baseline\"\n",
    "        params = \"Always predict 1\"\n",
    "        pathspec = f\"{current.flow_name}/{current.run_id}/{current.step_name}/{current.task_id}\"\n",
    "\n",
    "        majority_class = int(self.traindf.value_counts('label').index[0])\n",
    "        predictions = np.ones(self.valdf.shape[0]) * majority_class # TODO: predict the majority class\n",
    "        acc = accuracy_score(self.valdf['label'], predictions) # TODO: return the accuracy_score of these predictions\n",
    "        rocauc = roc_auc_score(self.valdf['label'], predictions) # TODO: return the roc_auc_score of these predictions\n",
    "        self.result = ModelResult(\"Baseline\", params, pathspec, acc, rocauc)\n",
    "        self.next(self.aggregate)\n",
    "\n",
    "    @step\n",
    "    def model(self):\n",
    "\n",
    "        # TODO: import your model if it is defined in another file.\n",
    "        from model import NbowModel\n",
    "        self._name = \"model\"\n",
    "        # NOTE: If you followed the link above to find a custom model implementation, \n",
    "            # you will have noticed your model's vocab_sz hyperparameter.\n",
    "            # Too big of vocab_sz causes an error. Can you explain why? \n",
    "        self.hyperparam_set = [{'vocab_sz': 100}, {'vocab_sz': 300}, {'vocab_sz': 500}]  \n",
    "        pathspec = f\"{current.flow_name}/{current.run_id}/{current.step_name}/{current.task_id}\"\n",
    "\n",
    "        self.results = []\n",
    "        for params in self.hyperparam_set:\n",
    "            model = NbowModel(vocab_sz=params['vocab_sz']) # TODO: instantiate your custom model here!\n",
    "            model.fit(X=self.df['review'], y=self.df['label'])\n",
    "            acc = model.eval_acc(self.valdf['review'], self.valdf['label']) # TODO: evaluate your custom model in an equivalent way to accuracy_score.\n",
    "            rocauc = model.eval_rocauc(self.valdf[\"review\"], self.valdf[\"label\"]) # TODO: evaluate your custom model in an equivalent way to roc_auc_score.\n",
    "            self.results.append(ModelResult(f\"NbowModel - vocab_sz: {params['vocab_sz']}\", params, pathspec, acc, rocauc))\n",
    "\n",
    "        self.next(self.aggregate)\n",
    "\n",
    "    @step\n",
    "    def aggregate(self, inputs):\n",
    "        self.next(self.end)\n",
    "\n",
    "    @step\n",
    "    def end(self):\n",
    "        pass\n",
    "\n",
    "if __name__ == '__main__':\n",
    "    BaselineChallenge()"
   ]
  },
  {
   "cell_type": "code",
   "execution_count": 8,
   "metadata": {
    "ExecuteTime": {
     "end_time": "2023-05-08T03:16:24.489711301Z",
     "start_time": "2023-05-08T03:16:17.633723751Z"
    },
    "collapsed": false
   },
   "outputs": [
    {
     "name": "stdout",
     "output_type": "stream",
     "text": [
      "\u001b[35m\u001b[1mMetaflow 2.8.3.1+ob(v1)\u001b[0m\u001b[35m\u001b[22m executing \u001b[0m\u001b[31m\u001b[1mBaselineChallenge\u001b[0m\u001b[35m\u001b[22m\u001b[0m\u001b[35m\u001b[22m for \u001b[0m\u001b[31m\u001b[1muser:sandbox\u001b[0m\u001b[35m\u001b[22m\u001b[K\u001b[0m\u001b[35m\u001b[22m\u001b[0m\n",
      "\u001b[35m\u001b[22mValidating your flow...\u001b[K\u001b[0m\u001b[35m\u001b[22m\u001b[0m\n",
      "\u001b[32m\u001b[1m    The graph looks good!\u001b[K\u001b[0m\u001b[32m\u001b[1m\u001b[0m\n",
      "\u001b[35m\u001b[22mRunning pylint...\u001b[K\u001b[0m\u001b[35m\u001b[22m\u001b[0m\n",
      "\u001b[32m\u001b[1m    Pylint is happy!\u001b[K\u001b[0m\u001b[32m\u001b[1m\u001b[0m\n",
      "\u001b[22mIncluding file ../../full-stack-ml-metaflow-corise-week-1/data/Womens Clothing E-Commerce Reviews.csv of size 8MB \u001b[K\u001b[0m\u001b[22m\u001b[0m\n",
      "\u001b[35m2023-05-08 04:38:54.070 \u001b[0m\u001b[1mWorkflow starting (run-id 12), see it in the UI at https://ui-pw-1752302777.outerbounds.dev/BaselineChallenge/12\u001b[0m\n",
      "\u001b[35m2023-05-08 04:38:54.307 \u001b[0m\u001b[32m[12/start/80 (pid 16651)] \u001b[0m\u001b[1mTask is starting.\u001b[0m\n",
      "\u001b[35m2023-05-08 04:38:57.247 \u001b[0m\u001b[32m[12/start/80 (pid 16651)] \u001b[0m\u001b[22mnum of rows in train set: 18112\u001b[0m\n",
      "\u001b[35m2023-05-08 04:38:59.863 \u001b[0m\u001b[32m[12/start/80 (pid 16651)] \u001b[0m\u001b[22mnum of rows in validation set: 4529\u001b[0m\n",
      "\u001b[35m2023-05-08 04:39:00.076 \u001b[0m\u001b[32m[12/start/80 (pid 16651)] \u001b[0m\u001b[1mTask finished successfully.\u001b[0m\n",
      "\u001b[35m2023-05-08 04:39:00.385 \u001b[0m\u001b[32m[12/baseline/81 (pid 16754)] \u001b[0m\u001b[1mTask is starting.\u001b[0m\n",
      "\u001b[35m2023-05-08 04:39:00.550 \u001b[0m\u001b[32m[12/model/82 (pid 16757)] \u001b[0m\u001b[1mTask is starting.\u001b[0m\n",
      "\u001b[35m2023-05-08 04:39:04.860 \u001b[0m\u001b[32m[12/model/82 (pid 16757)] \u001b[0m\u001b[22m2023-05-08 04:39:04.860359: I tensorflow/core/platform/cpu_feature_guard.cc:142] This TensorFlow binary is optimized with oneAPI Deep Neural Network Library (oneDNN) to use the following CPU instructions in performance-critical operations:  SSE4.1 SSE4.2 AVX AVX2 AVX512F FMA\u001b[0m\n",
      "\u001b[35m2023-05-08 04:39:05.122 \u001b[0m\u001b[32m[12/model/82 (pid 16757)] \u001b[0m\u001b[22m(22641,)\u001b[0m\n",
      "\u001b[35m2023-05-08 04:39:05.122 \u001b[0m\u001b[32m[12/model/82 (pid 16757)] \u001b[0m\u001b[22mAbsolutely wonderful - silky and sexy and comfortable\u001b[0m\n",
      "\u001b[35m2023-05-08 04:39:06.112 \u001b[0m\u001b[32m[12/baseline/81 (pid 16754)] \u001b[0m\u001b[1mTask finished successfully.\u001b[0m\n",
      "\u001b[35m2023-05-08 04:39:06.265 \u001b[0m\u001b[32m[12/model/82 (pid 16757)] \u001b[0m\u001b[22mTo enable them in other operations, rebuild TensorFlow with the appropriate compiler flags.\u001b[0m\n",
      "\u001b[35m2023-05-08 04:39:06.266 \u001b[0m\u001b[32m[12/model/82 (pid 16757)] \u001b[0m\u001b[22mEpoch 1/10\u001b[0m\n",
      "\u001b[35m2023-05-08 04:39:06.266 \u001b[0m\u001b[32m[12/model/82 (pid 16757)] \u001b[0m\u001b[22m2023-05-08 04:39:05.972963: I tensorflow/compiler/mlir/mlir_graph_optimization_pass.cc:116] None of the MLIR optimization passes are enabled (registered 2)\u001b[0m\n",
      "566/566 [==============================] - 1s 1ms/step - loss: 0.6285 - accuracy: 0.6417 - val_loss: 0.5822 - val_accuracy: 0.7052\u001b[0m6943 - accuracy: 0.53\n",
      "\u001b[35m2023-05-08 04:39:07.127 \u001b[0m\u001b[32m[12/model/82 (pid 16757)] \u001b[0m\u001b[22mEpoch 2/10\u001b[0m\n",
      "566/566 [==============================] - 0s 753us/step - loss: 0.5772 - accuracy: 0.7055 - val_loss: 0.5759 - val_accuracy: 0.7074\u001b[0m - accuracy: 0.59\n",
      "\u001b[35m2023-05-08 04:39:07.554 \u001b[0m\u001b[32m[12/model/82 (pid 16757)] \u001b[0m\u001b[22mEpoch 3/10\u001b[0m\n",
      "566/566 [==============================] - 0s 760us/step - loss: 0.5613 - accuracy: 0.7142 - val_loss: 0.5734 - val_accuracy: 0.7059\u001b[0m - accuracy: 0.75\n",
      "\u001b[35m2023-05-08 04:39:07.985 \u001b[0m\u001b[32m[12/model/82 (pid 16757)] \u001b[0m\u001b[22mEpoch 4/10\u001b[0m\n",
      "566/566 [==============================] - 0s 750us/step - loss: 0.5577 - accuracy: 0.7178 - val_loss: 0.5762 - val_accuracy: 0.7037\u001b[0m - accuracy: 0.81\n",
      "\u001b[35m2023-05-08 04:39:08.410 \u001b[0m\u001b[32m[12/model/82 (pid 16757)] \u001b[0m\u001b[22mEpoch 5/10\u001b[0m\n",
      "566/566 [==============================] - 0s 783us/step - loss: 0.5619 - accuracy: 0.7190 - val_loss: 0.5736 - val_accuracy: 0.7066\u001b[0m - accuracy: 0.59\n",
      "\u001b[35m2023-05-08 04:39:08.854 \u001b[0m\u001b[32m[12/model/82 (pid 16757)] \u001b[0m\u001b[22mEpoch 6/10\u001b[0m\n",
      "566/566 [==============================] - 0s 783us/step - loss: 0.5511 - accuracy: 0.7254 - val_loss: 0.5734 - val_accuracy: 0.7037\u001b[0m - accuracy: 0.75\n",
      "\u001b[35m2023-05-08 04:39:09.298 \u001b[0m\u001b[32m[12/model/82 (pid 16757)] \u001b[0m\u001b[22mEpoch 7/10\u001b[0m\n",
      "566/566 [==============================] - 0s 768us/step - loss: 0.5540 - accuracy: 0.7180 - val_loss: 0.5719 - val_accuracy: 0.7105\u001b[0m - accuracy: 0.71\n",
      "\u001b[35m2023-05-08 04:39:09.733 \u001b[0m\u001b[32m[12/model/82 (pid 16757)] \u001b[0m\u001b[22mEpoch 8/10\u001b[0m\n",
      "566/566 [==============================] - 0s 733us/step - loss: 0.5501 - accuracy: 0.7278 - val_loss: 0.5745 - val_accuracy: 0.7046\u001b[0m - accuracy: 0.81\n",
      "\u001b[35m2023-05-08 04:39:10.149 \u001b[0m\u001b[32m[12/model/82 (pid 16757)] \u001b[0m\u001b[22mEpoch 9/10\u001b[0m\n",
      "566/566 [==============================] - 0s 741us/step - loss: 0.5515 - accuracy: 0.7255 - val_loss: 0.5736 - val_accuracy: 0.7026\u001b[0m - accuracy: 0.71\n",
      "\u001b[35m2023-05-08 04:39:10.569 \u001b[0m\u001b[32m[12/model/82 (pid 16757)] \u001b[0m\u001b[22mEpoch 10/10\u001b[0m\n",
      "566/566 [==============================] - 0s 734us/step - loss: 0.5465 - accuracy: 0.7286 - val_loss: 0.5741 - val_accuracy: 0.7079\u001b[0m - accuracy: 0.71\n",
      "\u001b[35m2023-05-08 04:39:11.049 \u001b[0m\u001b[32m[12/model/82 (pid 16757)] \u001b[0m\u001b[22m(4529,)\u001b[0m\n",
      "\u001b[35m2023-05-08 04:39:11.315 \u001b[0m\u001b[32m[12/model/82 (pid 16757)] \u001b[0m\u001b[22m(4529,)\u001b[0m\n",
      "\u001b[35m2023-05-08 04:39:11.587 \u001b[0m\u001b[32m[12/model/82 (pid 16757)] \u001b[0m\u001b[22m(22641,)\u001b[0m\n",
      "\u001b[35m2023-05-08 04:39:12.442 \u001b[0m\u001b[32m[12/model/82 (pid 16757)] \u001b[0m\u001b[22mAbsolutely wonderful - silky and sexy and comfortable\u001b[0m\n",
      "\u001b[35m2023-05-08 04:39:12.443 \u001b[0m\u001b[32m[12/model/82 (pid 16757)] \u001b[0m\u001b[22mEpoch 1/10\u001b[0m\n",
      "566/566 [==============================] - 1s 1ms/step - loss: 0.5991 - accuracy: 0.6827 - val_loss: 0.5196 - val_accuracy: 0.7549\u001b[0m7136 - accuracy: 0.56\n",
      "\u001b[35m2023-05-08 04:39:13.247 \u001b[0m\u001b[32m[12/model/82 (pid 16757)] \u001b[0m\u001b[22mEpoch 2/10\u001b[0m\n",
      "566/566 [==============================] - 0s 843us/step - loss: 0.5051 - accuracy: 0.7629 - val_loss: 0.5168 - val_accuracy: 0.7545\u001b[0m - accuracy: 0.78\n",
      "\u001b[35m2023-05-08 04:39:13.725 \u001b[0m\u001b[32m[12/model/82 (pid 16757)] \u001b[0m\u001b[22mEpoch 3/10\u001b[0m\n",
      "566/566 [==============================] - 0s 853us/step - loss: 0.4983 - accuracy: 0.7735 - val_loss: 0.5110 - val_accuracy: 0.7584\u001b[0m - accuracy: 0.96\n",
      "\u001b[35m2023-05-08 04:39:14.209 \u001b[0m\u001b[32m[12/model/82 (pid 16757)] \u001b[0m\u001b[22mEpoch 4/10\u001b[0m\n",
      "566/566 [==============================] - 1s 890us/step - loss: 0.4903 - accuracy: 0.7731 - val_loss: 0.5095 - val_accuracy: 0.7573\u001b[0m - accuracy: 0.78\n",
      "\u001b[35m2023-05-08 04:39:14.714 \u001b[0m\u001b[32m[12/model/82 (pid 16757)] \u001b[0m\u001b[22mEpoch 5/10\u001b[0m\n",
      "566/566 [==============================] - 0s 861us/step - loss: 0.4899 - accuracy: 0.7722 - val_loss: 0.5118 - val_accuracy: 0.7571\u001b[0m - accuracy: 0.71\n",
      "\u001b[35m2023-05-08 04:39:15.202 \u001b[0m\u001b[32m[12/model/82 (pid 16757)] \u001b[0m\u001b[22mEpoch 6/10\u001b[0m\n",
      "566/566 [==============================] - 0s 852us/step - loss: 0.4846 - accuracy: 0.7806 - val_loss: 0.5126 - val_accuracy: 0.7562\u001b[0m - accuracy: 0.84\n",
      "\u001b[35m2023-05-08 04:39:15.685 \u001b[0m\u001b[32m[12/model/82 (pid 16757)] \u001b[0m\u001b[22mEpoch 7/10\u001b[0m\n",
      "566/566 [==============================] - 0s 863us/step - loss: 0.4705 - accuracy: 0.7879 - val_loss: 0.5183 - val_accuracy: 0.7534\u001b[0m - accuracy: 0.71\n",
      "\u001b[35m2023-05-08 04:39:16.175 \u001b[0m\u001b[32m[12/model/82 (pid 16757)] \u001b[0m\u001b[22mEpoch 8/10\u001b[0m\n",
      "566/566 [==============================] - 0s 828us/step - loss: 0.4652 - accuracy: 0.7907 - val_loss: 0.5156 - val_accuracy: 0.7618\u001b[0m - accuracy: 0.81\n",
      "\u001b[35m2023-05-08 04:39:16.644 \u001b[0m\u001b[32m[12/model/82 (pid 16757)] \u001b[0m\u001b[22mEpoch 9/10\u001b[0m\n",
      "566/566 [==============================] - 0s 828us/step - loss: 0.4600 - accuracy: 0.7938 - val_loss: 0.5191 - val_accuracy: 0.7576\u001b[0m - accuracy: 0.81\n",
      "\u001b[35m2023-05-08 04:39:17.114 \u001b[0m\u001b[32m[12/model/82 (pid 16757)] \u001b[0m\u001b[22mEpoch 10/10\u001b[0m\n",
      "566/566 [==============================] - 0s 852us/step - loss: 0.4536 - accuracy: 0.8058 - val_loss: 0.5297 - val_accuracy: 0.7543\u001b[0m - accuracy: 0.84\n",
      "\u001b[35m2023-05-08 04:39:17.599 \u001b[0m\u001b[32m[12/model/82 (pid 16757)] \u001b[0m\u001b[22m(4529,)\u001b[0m\n",
      "\u001b[35m2023-05-08 04:39:17.848 \u001b[0m\u001b[32m[12/model/82 (pid 16757)] \u001b[0m\u001b[22m(4529,)\u001b[0m\n",
      "\u001b[35m2023-05-08 04:39:18.094 \u001b[0m\u001b[32m[12/model/82 (pid 16757)] \u001b[0m\u001b[22m(22641,)\u001b[0m\n",
      "\u001b[35m2023-05-08 04:39:18.983 \u001b[0m\u001b[32m[12/model/82 (pid 16757)] \u001b[0m\u001b[22mAbsolutely wonderful - silky and sexy and comfortable\u001b[0m\n",
      "\u001b[35m2023-05-08 04:39:18.983 \u001b[0m\u001b[32m[12/model/82 (pid 16757)] \u001b[0m\u001b[22mEpoch 1/10\u001b[0m\n",
      "566/566 [==============================] - 1s 1ms/step - loss: 0.5855 - accuracy: 0.6913 - val_loss: 0.5104 - val_accuracy: 0.7688\u001b[0m6863 - accuracy: 0.59\n",
      "\u001b[35m2023-05-08 04:39:19.823 \u001b[0m\u001b[32m[12/model/82 (pid 16757)] \u001b[0m\u001b[22mEpoch 2/10\u001b[0m\n",
      "566/566 [==============================] - 1s 955us/step - loss: 0.4925 - accuracy: 0.7773 - val_loss: 0.5011 - val_accuracy: 0.7713\u001b[0m - accuracy: 0.75\n",
      "\u001b[35m2023-05-08 04:39:20.364 \u001b[0m\u001b[32m[12/model/82 (pid 16757)] \u001b[0m\u001b[22mEpoch 3/10\u001b[0m\n",
      "566/566 [==============================] - 1s 923us/step - loss: 0.4767 - accuracy: 0.7831 - val_loss: 0.5045 - val_accuracy: 0.7675\u001b[0m - accuracy: 0.93\n",
      "\u001b[35m2023-05-08 04:39:20.887 \u001b[0m\u001b[32m[12/model/82 (pid 16757)] \u001b[0m\u001b[22mEpoch 4/10\u001b[0m\n",
      "566/566 [==============================] - 1s 928us/step - loss: 0.4692 - accuracy: 0.7845 - val_loss: 0.4998 - val_accuracy: 0.7739\u001b[0m - accuracy: 0.71\n",
      "\u001b[35m2023-05-08 04:39:21.413 \u001b[0m\u001b[32m[12/model/82 (pid 16757)] \u001b[0m\u001b[22mEpoch 5/10\u001b[0m\n",
      "566/566 [==============================] - 1s 921us/step - loss: 0.4597 - accuracy: 0.8003 - val_loss: 0.5008 - val_accuracy: 0.7752\u001b[0m - accuracy: 0.93\n",
      "\u001b[35m2023-05-08 04:39:21.936 \u001b[0m\u001b[32m[12/model/82 (pid 16757)] \u001b[0m\u001b[22mEpoch 6/10\u001b[0m\n",
      "566/566 [==============================] - 1s 907us/step - loss: 0.4479 - accuracy: 0.8016 - val_loss: 0.5043 - val_accuracy: 0.7724\u001b[0m - accuracy: 0.87\n",
      "\u001b[35m2023-05-08 04:39:22.450 \u001b[0m\u001b[32m[12/model/82 (pid 16757)] \u001b[0m\u001b[22mEpoch 7/10\u001b[0m\n",
      "566/566 [==============================] - 1s 906us/step - loss: 0.4461 - accuracy: 0.8072 - val_loss: 0.5181 - val_accuracy: 0.7671\u001b[0m - accuracy: 0.81\n",
      "\u001b[35m2023-05-08 04:39:22.963 \u001b[0m\u001b[32m[12/model/82 (pid 16757)] \u001b[0m\u001b[22mEpoch 8/10\u001b[0m\n",
      "566/566 [==============================] - 1s 917us/step - loss: 0.4342 - accuracy: 0.8175 - val_loss: 0.5219 - val_accuracy: 0.7611\u001b[0m - accuracy: 0.75\n",
      "\u001b[35m2023-05-08 04:39:23.482 \u001b[0m\u001b[32m[12/model/82 (pid 16757)] \u001b[0m\u001b[22mEpoch 9/10\u001b[0m\n",
      "566/566 [==============================] - 1s 916us/step - loss: 0.4230 - accuracy: 0.8233 - val_loss: 0.5264 - val_accuracy: 0.7629\u001b[0m - accuracy: 0.78\n",
      "\u001b[35m2023-05-08 04:39:24.002 \u001b[0m\u001b[32m[12/model/82 (pid 16757)] \u001b[0m\u001b[22mEpoch 10/10\u001b[0m\n",
      "566/566 [==============================] - 1s 1ms/step - loss: 0.4270 - accuracy: 0.8223 - val_loss: 0.5384 - val_accuracy: 0.7611\u001b[0m39 - accuracy: 0.90\n",
      "\u001b[35m2023-05-08 04:39:24.574 \u001b[0m\u001b[32m[12/model/82 (pid 16757)] \u001b[0m\u001b[22m(4529,)\u001b[0m\n",
      "\u001b[35m2023-05-08 04:39:24.846 \u001b[0m\u001b[32m[12/model/82 (pid 16757)] \u001b[0m\u001b[22m(4529,)\u001b[0m\n",
      "\u001b[35m2023-05-08 04:39:27.844 \u001b[0m\u001b[32m[12/model/82 (pid 16757)] \u001b[0m\u001b[22m2023-05-08 04:39:05.973437: I tensorflow/core/platform/profile_utils/cpu_utils.cc:112] CPU Frequency: 2499995000 Hz\u001b[0m\n",
      "\u001b[35m2023-05-08 04:39:28.133 \u001b[0m\u001b[32m[12/model/82 (pid 16757)] \u001b[0m\u001b[1mTask finished successfully.\u001b[0m\n",
      "\u001b[35m2023-05-08 04:39:28.464 \u001b[0m\u001b[32m[12/aggregate/83 (pid 17081)] \u001b[0m\u001b[1mTask is starting.\u001b[0m\n",
      "\u001b[35m2023-05-08 04:39:31.014 \u001b[0m\u001b[32m[12/aggregate/83 (pid 17081)] \u001b[0m\u001b[1mTask finished successfully.\u001b[0m\n",
      "\u001b[35m2023-05-08 04:39:31.333 \u001b[0m\u001b[32m[12/end/84 (pid 17141)] \u001b[0m\u001b[1mTask is starting.\u001b[0m\n",
      "\u001b[35m2023-05-08 04:39:33.816 \u001b[0m\u001b[32m[12/end/84 (pid 17141)] \u001b[0m\u001b[1mTask finished successfully.\u001b[0m\n",
      "\u001b[35m2023-05-08 04:39:33.917 \u001b[0m\u001b[1mDone! See the run in the UI at https://ui-pw-1752302777.outerbounds.dev/BaselineChallenge/12\u001b[0m\n"
     ]
    }
   ],
   "source": [
    "! python baseline_challenge.py run --data \"../../full-stack-ml-metaflow-corise-week-1/data/Womens Clothing E-Commerce Reviews.csv\""
   ]
  },
  {
   "attachments": {},
   "cell_type": "markdown",
   "metadata": {},
   "source": [
    "## Task 2: Anticipating Failure in Your Machine Learning Project\n",
    "\n",
    "In this task, you'll practice anticipating potential failure modes in a sentiment analysis classifier and develop strategies to mitigate them. Here's what you'll need to do:\n",
    "### Step 1: Identify Potential Failure Modes\n",
    "\n",
    "The first step in anticipating failure in your machine learning project is to identify potential failure modes. Start by brainstorming ways in which your project could fail from an engineering point of view. For example, your model could overfit to the training data or suffer from data bias.\n",
    "### Step 2: Develop Strategies to Mitigate Failure Modes\n",
    "\n",
    "Once you've identified potential failure modes, the next step is to develop strategies to mitigate them. Think about what measures you could take to fix the issue if it were to occur. For example, if your model is overfitting to the training data, you could try regularization techniques such as L1 or L2 regularization to reduce the complexity of the model.\n",
    "\n",
    "\n",
    "### Step 3: Plan Ahead to Avoid Failure Modes\n",
    "\n",
    "Finally, it's important to plan ahead to avoid potential failure modes in the first place. Think about what you could have done initially to avoid these failure modes. For example, you could have collected a diverse set of training data to reduce data bias or experimented with different model architectures to find the best solution for your problem.\n",
    "\n",
    "The key to anticipating failure in your machine learning project is to be proactive rather than reactive. By identifying potential failure modes ahead of time and developing strategies to mitigate them, you'll be better equipped to build a successful machine learning project.\n",
    "\n",
    "\n",
    "## Answers Task 2\n",
    "### Step 1: Identify Potential Failure Modes\n",
    "* Distributional shift: The distribution of the training data is different from the distribution of the test data, this can be caused by changing the data collection process or the meaning of the data (words, expressions, phrases) changes over time.\n",
    "* Selection bias and lack of generalization: The training data is not representative of the population you want to generalize to. For example, training data only contains reviews from one type of customer, but you want to generalize to all customers.\n",
    "* Memory errors: The model is too large to fit in memory.\n",
    "* Errors while fetching data: The model is unable to fetch data from the database or blob storage.\n",
    "\n",
    "### Step 2: Develop Strategies to Mitigate Failure Modes\n",
    "* Constante model retraining: Retrain the model on a regular basis to account for distributional shift.\n",
    "* Integrate data from different sources: Collect data from different sources to debias the training data.\n",
    "* Train more than one model: Train multiple models on different subsets of the training data and evaluate the consistency of the results.\n",
    "* Study the cases where the model fails to predict the correct label: This can help you identify potential mis labelling in the training data.\n",
    "* Profiling and monitoring: Monitor the memory usage of the model.\n",
    "* Retry logic: Retry fetching data from the database or blob storage."
   ]
  },
  {
   "attachments": {},
   "cell_type": "markdown",
   "metadata": {},
   "source": [
    "## Task 3: Visualizing ML Results with MF Cards\n",
    "Now it is time to iterate. Extend the flow in your `baseline_challenge.py` file to include a step that aggregates all of the results from hyperparameter tuning jobs, and logs results and a data visualiation in a Metaflow card."
   ]
  },
  {
   "cell_type": "code",
   "execution_count": 9,
   "metadata": {},
   "outputs": [
    {
     "name": "stdout",
     "output_type": "stream",
     "text": [
      "Overwriting baseline_challenge.py\n"
     ]
    }
   ],
   "source": [
    "%%writefile baseline_challenge.py\n",
    "# %%writefile baseline_challenge.py\n",
    "# TODO: In this cell, write your BaselineChallenge flow in the baseline_challenge.py file.\n",
    "\n",
    "from metaflow import FlowSpec, step, Flow, current, Parameter, IncludeFile, card, current\n",
    "from metaflow.cards import Table, Markdown, Artifact, Image\n",
    "import numpy as np \n",
    "from dataclasses import dataclass\n",
    "\n",
    "labeling_function = lambda row: 1 if row['rating'] > 4 else 0 # TODO: Define your labeling function here.\n",
    "\n",
    "@dataclass\n",
    "class ModelResult:\n",
    "    \"\"\"A custom struct for storing model evaluation results.\"\"\"\n",
    "    name: None\n",
    "    params: None\n",
    "    pathspec: None\n",
    "    acc: None\n",
    "    rocauc: None\n",
    "\n",
    "class BaselineChallenge(FlowSpec):\n",
    "\n",
    "    split_size = Parameter('split-sz', default=0.2)\n",
    "    data = IncludeFile('data', default='Womens Clothing E-Commerce Reviews.csv')\n",
    "    kfold = Parameter('k', default=5)\n",
    "    scoring = Parameter('scoring', default='accuracy')\n",
    "\n",
    "    @step\n",
    "    def start(self):\n",
    "\n",
    "        import pandas as pd\n",
    "        import io \n",
    "        from sklearn.model_selection import train_test_split\n",
    "        \n",
    "        # load dataset packaged with the flow.\n",
    "        # this technique is convenient when working with small datasets that need to move to remove tasks.\n",
    "        df = pd.read_csv(io.StringIO(self.data), index_col=0)\n",
    "        # TODO: load the data. \n",
    "        # Look up a few lines to the IncludeFile('data', default='Womens Clothing E-Commerce Reviews.csv'). \n",
    "        # You can find documentation on IncludeFile here: https://docs.metaflow.org/scaling/data#data-in-local-files\n",
    "\n",
    "\n",
    "        # filter down to reviews and labels \n",
    "        df.columns = [\"_\".join(name.lower().strip().split()) for name in df.columns]\n",
    "        df = df[~df.review_text.isna()]\n",
    "        df['review'] = df['review_text'].astype('str')\n",
    "        _has_review_df = df[df['review_text'] != 'nan']\n",
    "        reviews = _has_review_df['review_text']\n",
    "        labels = _has_review_df.apply(labeling_function, axis=1)\n",
    "        self.df = pd.DataFrame({'label': labels, **_has_review_df})\n",
    "\n",
    "        # split the data 80/20, or by using the flow's split-sz CLI argument\n",
    "        _df = pd.DataFrame({'review': reviews, 'label': labels})\n",
    "        self.traindf, self.valdf = train_test_split(_df, test_size=self.split_size)\n",
    "        print(f'num of rows in train set: {self.traindf.shape[0]}')\n",
    "        print(f'num of rows in validation set: {self.valdf.shape[0]}')\n",
    "\n",
    "        self.next(self.baseline, self.model)\n",
    "\n",
    "    @step\n",
    "    def baseline(self):\n",
    "        \"\"\"Compute the baseline\"\"\"\n",
    "\n",
    "        from sklearn.metrics import accuracy_score, roc_auc_score\n",
    "        self._name = \"baseline\"\n",
    "        params = \"Always predict 1\"\n",
    "        pathspec = f\"{current.flow_name}/{current.run_id}/{current.step_name}/{current.task_id}\"\n",
    "\n",
    "        majority_class = int(self.traindf.value_counts('label').index[0])\n",
    "        predictions = np.ones(self.valdf.shape[0]) * majority_class # TODO: predict the majority class\n",
    "        acc = accuracy_score(self.valdf['label'], predictions) # TODO: return the accuracy_score of these predictions\n",
    "        rocauc = roc_auc_score(self.valdf['label'], predictions) # TODO: return the roc_auc_score of these predictions\n",
    "        self.result = ModelResult(\"Baseline\", params, pathspec, acc, rocauc)\n",
    "        self.next(self.aggregate)\n",
    "\n",
    "    @step\n",
    "    def model(self):\n",
    "\n",
    "        # TODO: import your model if it is defined in another file.\n",
    "        from model import NbowModel\n",
    "        self._name = \"model\"\n",
    "        # NOTE: If you followed the link above to find a custom model implementation, \n",
    "            # you will have noticed your model's vocab_sz hyperparameter.\n",
    "            # Too big of vocab_sz causes an error. Can you explain why? \n",
    "        self.hyperparam_set = [{'vocab_sz': 100}, {'vocab_sz': 300}, {'vocab_sz': 500}]  \n",
    "        pathspec = f\"{current.flow_name}/{current.run_id}/{current.step_name}/{current.task_id}\"\n",
    "\n",
    "        self.results = []\n",
    "        for params in self.hyperparam_set:\n",
    "            model = NbowModel(vocab_sz=params['vocab_sz']) # TODO: instantiate your custom model here!\n",
    "            model.fit(X=self.df['review'], y=self.df['label'])\n",
    "            acc = model.eval_acc(X=self.valdf['review'], labels=self.valdf['label'])# TODO: evaluate your custom model in an equivalent way to accuracy_score.\n",
    "            rocauc = model.eval_rocauc(X=self.valdf['review'], labels=self.valdf['label']) # TODO: evaluate your custom model in an equivalent way to roc_auc_score.\n",
    "            self.results.append(ModelResult(f\"NbowModel - vocab_sz: {params['vocab_sz']}\", params, pathspec, acc, rocauc))\n",
    "\n",
    "        self.next(self.aggregate)\n",
    "\n",
    "    def add_one(self, rows, result, df):\n",
    "        \"\"\"A helper function to load results.\"\"\"\n",
    "        rows.append([\n",
    "            Markdown(result.name),\n",
    "            Artifact(result.params),\n",
    "            Artifact(result.pathspec),\n",
    "            Artifact(result.acc),\n",
    "            Artifact(result.rocauc)\n",
    "        ])\n",
    "        df['name'].append(result.name)\n",
    "        df['accuracy'].append(result.acc)\n",
    "        return rows, df\n",
    "\n",
    "    @card(type='corise') # TODO: Set your card type to \"corise\".\n",
    "            # I wonder what other card types there are?\n",
    "            # https://docs.metaflow.org/metaflow/visualizing-results\n",
    "            # https://github.com/outerbounds/metaflow-card-altair/blob/main/altairflow.py\n",
    "    @step\n",
    "    def aggregate(self, inputs):\n",
    "\n",
    "        import seaborn as sns\n",
    "        import matplotlib.pyplot as plt\n",
    "        from matplotlib import rcParams \n",
    "        rcParams.update({'figure.autolayout': True})\n",
    "\n",
    "        rows = []\n",
    "        violin_plot_df = {'name': [], 'accuracy': []}\n",
    "        for task in inputs:\n",
    "            if task._name == \"model\": \n",
    "                for result in task.results:\n",
    "                    print(result)\n",
    "                    rows, violin_plot_df = self.add_one(rows, result, violin_plot_df)\n",
    "            elif task._name == \"baseline\":\n",
    "                print(task.result)\n",
    "                rows, violin_plot_df = self.add_one(rows, task.result, violin_plot_df)\n",
    "            else:\n",
    "                raise ValueError(\"Unknown task._name type. Cannot parse results.\")\n",
    "            \n",
    "        current.card.append(Markdown(\"# All models from this flow run\"))\n",
    "\n",
    "        # TODO: Add a Table of the results to your card! \n",
    "        current.card.append(\n",
    "            Table(\n",
    "                rows, # TODO: What goes here to populate the Table in the card?\n",
    "                headers=[\"Model name\", \"Params\", \"Task pathspec\", \"Accuracy\", \"ROCAUC\"]\n",
    "            )\n",
    "        )\n",
    "        \n",
    "        fig, ax = plt.subplots(1,1)\n",
    "        plt.xticks(rotation=40)\n",
    "        sns.violinplot(data=violin_plot_df, x=\"name\", y=\"accuracy\", ax=ax)\n",
    "        \n",
    "        # TODO: Append the matplotlib fig to the card\n",
    "        # Docs: https://docs.metaflow.org/metaflow/visualizing-results/easy-custom-reports-with-card-components#showing-plots\n",
    "        current.card.append(Image.from_matplotlib(fig))\n",
    "        self.next(self.end)\n",
    "\n",
    "    @step\n",
    "    def end(self):\n",
    "        pass\n",
    "\n",
    "if __name__ == '__main__':\n",
    "    BaselineChallenge()"
   ]
  },
  {
   "cell_type": "code",
   "execution_count": 10,
   "metadata": {},
   "outputs": [
    {
     "name": "stdout",
     "output_type": "stream",
     "text": [
      "\u001b[35m\u001b[1mMetaflow 2.8.3.1+ob(v1)\u001b[0m\u001b[35m\u001b[22m executing \u001b[0m\u001b[31m\u001b[1mBaselineChallenge\u001b[0m\u001b[35m\u001b[22m\u001b[0m\u001b[35m\u001b[22m for \u001b[0m\u001b[31m\u001b[1muser:sandbox\u001b[0m\u001b[35m\u001b[22m\u001b[K\u001b[0m\u001b[35m\u001b[22m\u001b[0m\n",
      "\u001b[35m\u001b[22mValidating your flow...\u001b[K\u001b[0m\u001b[35m\u001b[22m\u001b[0m\n",
      "\u001b[32m\u001b[1m    The graph looks good!\u001b[K\u001b[0m\u001b[32m\u001b[1m\u001b[0m\n",
      "\u001b[35m\u001b[22mRunning pylint...\u001b[K\u001b[0m\u001b[35m\u001b[22m\u001b[0m\n",
      "\u001b[32m\u001b[1m    Pylint is happy!\u001b[K\u001b[0m\u001b[32m\u001b[1m\u001b[0m\n",
      "\u001b[22mIncluding file ../../full-stack-ml-metaflow-corise-week-1/data/Womens Clothing E-Commerce Reviews.csv of size 8MB \u001b[K\u001b[0m\u001b[22m\u001b[0m\n",
      "\u001b[35m2023-05-08 04:39:46.539 \u001b[0m\u001b[1mWorkflow starting (run-id 13), see it in the UI at https://ui-pw-1752302777.outerbounds.dev/BaselineChallenge/13\u001b[0m\n",
      "\u001b[35m2023-05-08 04:39:46.739 \u001b[0m\u001b[32m[13/start/86 (pid 17235)] \u001b[0m\u001b[1mTask is starting.\u001b[0m\n",
      "\u001b[35m2023-05-08 04:39:49.763 \u001b[0m\u001b[32m[13/start/86 (pid 17235)] \u001b[0m\u001b[22mnum of rows in train set: 18112\u001b[0m\n",
      "\u001b[35m2023-05-08 04:39:52.323 \u001b[0m\u001b[32m[13/start/86 (pid 17235)] \u001b[0m\u001b[22mnum of rows in validation set: 4529\u001b[0m\n",
      "\u001b[35m2023-05-08 04:39:52.515 \u001b[0m\u001b[32m[13/start/86 (pid 17235)] \u001b[0m\u001b[1mTask finished successfully.\u001b[0m\n",
      "\u001b[35m2023-05-08 04:39:52.805 \u001b[0m\u001b[32m[13/baseline/87 (pid 17338)] \u001b[0m\u001b[1mTask is starting.\u001b[0m\n",
      "\u001b[35m2023-05-08 04:39:52.969 \u001b[0m\u001b[32m[13/model/88 (pid 17341)] \u001b[0m\u001b[1mTask is starting.\u001b[0m\n",
      "\u001b[35m2023-05-08 04:39:57.333 \u001b[0m\u001b[32m[13/model/88 (pid 17341)] \u001b[0m\u001b[22m2023-05-08 04:39:57.333491: I tensorflow/core/platform/cpu_feature_guard.cc:142] This TensorFlow binary is optimized with oneAPI Deep Neural Network Library (oneDNN) to use the following CPU instructions in performance-critical operations:  SSE4.1 SSE4.2 AVX AVX2 AVX512F FMA\u001b[0m\n",
      "\u001b[35m2023-05-08 04:39:57.515 \u001b[0m\u001b[32m[13/model/88 (pid 17341)] \u001b[0m\u001b[22m(22641,)\u001b[0m\n",
      "\u001b[35m2023-05-08 04:39:57.516 \u001b[0m\u001b[32m[13/model/88 (pid 17341)] \u001b[0m\u001b[22mAbsolutely wonderful - silky and sexy and comfortable\u001b[0m\n",
      "\u001b[35m2023-05-08 04:39:58.444 \u001b[0m\u001b[32m[13/baseline/87 (pid 17338)] \u001b[0m\u001b[1mTask finished successfully.\u001b[0m\n",
      "\u001b[35m2023-05-08 04:39:58.584 \u001b[0m\u001b[32m[13/model/88 (pid 17341)] \u001b[0m\u001b[22mTo enable them in other operations, rebuild TensorFlow with the appropriate compiler flags.\u001b[0m\n",
      "\u001b[35m2023-05-08 04:39:58.584 \u001b[0m\u001b[32m[13/model/88 (pid 17341)] \u001b[0m\u001b[22mEpoch 1/10\u001b[0m\n",
      "\u001b[35m2023-05-08 04:39:58.584 \u001b[0m\u001b[32m[13/model/88 (pid 17341)] \u001b[0m\u001b[22m2023-05-08 04:39:58.360492: I tensorflow/compiler/mlir/mlir_graph_optimization_pass.cc:116] None of the MLIR optimization passes are enabled (registered 2)\u001b[0m\n",
      "566/566 [==============================] - 1s 2ms/step - loss: 0.6334 - accuracy: 0.6415 - val_loss: 0.5828 - val_accuracy: 0.7048\u001b[0m6923 - accuracy: 0.46\n",
      "\u001b[35m2023-05-08 04:39:59.561 \u001b[0m\u001b[32m[13/model/88 (pid 17341)] \u001b[0m\u001b[22mEpoch 2/10\u001b[0m\n",
      "566/566 [==============================] - 0s 751us/step - loss: 0.5681 - accuracy: 0.7166 - val_loss: 0.5780 - val_accuracy: 0.7083\u001b[0m - accuracy: 0.71\n",
      "\u001b[35m2023-05-08 04:39:59.986 \u001b[0m\u001b[32m[13/model/88 (pid 17341)] \u001b[0m\u001b[22mEpoch 3/10\u001b[0m\n",
      "566/566 [==============================] - 0s 741us/step - loss: 0.5706 - accuracy: 0.7092 - val_loss: 0.5776 - val_accuracy: 0.7085\u001b[0m - accuracy: 0.65\n",
      "\u001b[35m2023-05-08 04:40:00.406 \u001b[0m\u001b[32m[13/model/88 (pid 17341)] \u001b[0m\u001b[22mEpoch 4/10\u001b[0m\n",
      "566/566 [==============================] - 0s 743us/step - loss: 0.5614 - accuracy: 0.7231 - val_loss: 0.5754 - val_accuracy: 0.7052\u001b[0m - accuracy: 0.87\n",
      "\u001b[35m2023-05-08 04:40:00.828 \u001b[0m\u001b[32m[13/model/88 (pid 17341)] \u001b[0m\u001b[22mEpoch 5/10\u001b[0m\n",
      "566/566 [==============================] - 0s 800us/step - loss: 0.5557 - accuracy: 0.7224 - val_loss: 0.5754 - val_accuracy: 0.7041\u001b[0m - accuracy: 0.84\n",
      "\u001b[35m2023-05-08 04:40:01.281 \u001b[0m\u001b[32m[13/model/88 (pid 17341)] \u001b[0m\u001b[22mEpoch 6/10\u001b[0m\n",
      "566/566 [==============================] - 0s 738us/step - loss: 0.5593 - accuracy: 0.7216 - val_loss: 0.5745 - val_accuracy: 0.7050\u001b[0m - accuracy: 0.78\n",
      "\u001b[35m2023-05-08 04:40:01.700 \u001b[0m\u001b[32m[13/model/88 (pid 17341)] \u001b[0m\u001b[22mEpoch 7/10\u001b[0m\n",
      "566/566 [==============================] - 0s 743us/step - loss: 0.5524 - accuracy: 0.7251 - val_loss: 0.5754 - val_accuracy: 0.7061\u001b[0m - accuracy: 0.81\n",
      "\u001b[35m2023-05-08 04:40:02.122 \u001b[0m\u001b[32m[13/model/88 (pid 17341)] \u001b[0m\u001b[22mEpoch 8/10\u001b[0m\n",
      "566/566 [==============================] - 0s 755us/step - loss: 0.5499 - accuracy: 0.7276 - val_loss: 0.5762 - val_accuracy: 0.7066\u001b[0m - accuracy: 0.87\n",
      "\u001b[35m2023-05-08 04:40:02.550 \u001b[0m\u001b[32m[13/model/88 (pid 17341)] \u001b[0m\u001b[22mEpoch 9/10\u001b[0m\n",
      "566/566 [==============================] - 0s 755us/step - loss: 0.5537 - accuracy: 0.7246 - val_loss: 0.5767 - val_accuracy: 0.7052\u001b[0m - accuracy: 0.87\n",
      "\u001b[35m2023-05-08 04:40:02.978 \u001b[0m\u001b[32m[13/model/88 (pid 17341)] \u001b[0m\u001b[22mEpoch 10/10\u001b[0m\n",
      "566/566 [==============================] - 0s 749us/step - loss: 0.5443 - accuracy: 0.7304 - val_loss: 0.5780 - val_accuracy: 0.7008\u001b[0m - accuracy: 0.65\n",
      "\u001b[35m2023-05-08 04:40:03.463 \u001b[0m\u001b[32m[13/model/88 (pid 17341)] \u001b[0m\u001b[22m(4529,)\u001b[0m\n",
      "\u001b[35m2023-05-08 04:40:03.716 \u001b[0m\u001b[32m[13/model/88 (pid 17341)] \u001b[0m\u001b[22m(4529,)\u001b[0m\n",
      "\u001b[35m2023-05-08 04:40:03.967 \u001b[0m\u001b[32m[13/model/88 (pid 17341)] \u001b[0m\u001b[22m(22641,)\u001b[0m\n",
      "\u001b[35m2023-05-08 04:40:04.834 \u001b[0m\u001b[32m[13/model/88 (pid 17341)] \u001b[0m\u001b[22mAbsolutely wonderful - silky and sexy and comfortable\u001b[0m\n",
      "\u001b[35m2023-05-08 04:40:04.834 \u001b[0m\u001b[32m[13/model/88 (pid 17341)] \u001b[0m\u001b[22mEpoch 1/10\u001b[0m\n",
      "566/566 [==============================] - 1s 1ms/step - loss: 0.5929 - accuracy: 0.6920 - val_loss: 0.5288 - val_accuracy: 0.7523\u001b[0m6838 - accuracy: 0.59\n",
      "\u001b[35m2023-05-08 04:40:05.637 \u001b[0m\u001b[32m[13/model/88 (pid 17341)] \u001b[0m\u001b[22mEpoch 2/10\u001b[0m\n",
      "566/566 [==============================] - 0s 838us/step - loss: 0.5041 - accuracy: 0.7672 - val_loss: 0.5170 - val_accuracy: 0.7527\u001b[0m - accuracy: 0.62\n",
      "\u001b[35m2023-05-08 04:40:06.112 \u001b[0m\u001b[32m[13/model/88 (pid 17341)] \u001b[0m\u001b[22mEpoch 3/10\u001b[0m\n",
      "566/566 [==============================] - 0s 827us/step - loss: 0.5020 - accuracy: 0.7663 - val_loss: 0.5090 - val_accuracy: 0.7584\u001b[0m - accuracy: 0.75\n",
      "\u001b[35m2023-05-08 04:40:06.582 \u001b[0m\u001b[32m[13/model/88 (pid 17341)] \u001b[0m\u001b[22mEpoch 4/10\u001b[0m\n",
      "566/566 [==============================] - 0s 838us/step - loss: 0.4898 - accuracy: 0.7722 - val_loss: 0.5105 - val_accuracy: 0.7584\u001b[0m - accuracy: 0.81\n",
      "\u001b[35m2023-05-08 04:40:07.057 \u001b[0m\u001b[32m[13/model/88 (pid 17341)] \u001b[0m\u001b[22mEpoch 5/10\u001b[0m\n",
      "566/566 [==============================] - 0s 836us/step - loss: 0.4748 - accuracy: 0.7834 - val_loss: 0.5113 - val_accuracy: 0.7576\u001b[0m - accuracy: 0.81\n",
      "\u001b[35m2023-05-08 04:40:07.531 \u001b[0m\u001b[32m[13/model/88 (pid 17341)] \u001b[0m\u001b[22mEpoch 6/10\u001b[0m\n",
      "566/566 [==============================] - 0s 829us/step - loss: 0.4771 - accuracy: 0.7808 - val_loss: 0.5137 - val_accuracy: 0.7565\u001b[0m - accuracy: 0.81\n",
      "\u001b[35m2023-05-08 04:40:08.001 \u001b[0m\u001b[32m[13/model/88 (pid 17341)] \u001b[0m\u001b[22mEpoch 7/10\u001b[0m\n",
      "566/566 [==============================] - 0s 830us/step - loss: 0.4714 - accuracy: 0.7831 - val_loss: 0.5205 - val_accuracy: 0.7496\u001b[0m - accuracy: 0.78\n",
      "\u001b[35m2023-05-08 04:40:08.471 \u001b[0m\u001b[32m[13/model/88 (pid 17341)] \u001b[0m\u001b[22mEpoch 8/10\u001b[0m\n",
      "566/566 [==============================] - 0s 840us/step - loss: 0.4586 - accuracy: 0.7964 - val_loss: 0.5207 - val_accuracy: 0.7536\u001b[0m - accuracy: 0.87\n",
      "\u001b[35m2023-05-08 04:40:08.948 \u001b[0m\u001b[32m[13/model/88 (pid 17341)] \u001b[0m\u001b[22mEpoch 9/10\u001b[0m\n",
      "566/566 [==============================] - 0s 841us/step - loss: 0.4631 - accuracy: 0.7946 - val_loss: 0.5264 - val_accuracy: 0.7494\u001b[0m - accuracy: 0.75\n",
      "\u001b[35m2023-05-08 04:40:09.425 \u001b[0m\u001b[32m[13/model/88 (pid 17341)] \u001b[0m\u001b[22mEpoch 10/10\u001b[0m\n",
      "566/566 [==============================] - 0s 829us/step - loss: 0.4456 - accuracy: 0.8046 - val_loss: 0.5299 - val_accuracy: 0.7463\u001b[0m - accuracy: 0.71\n",
      "\u001b[35m2023-05-08 04:40:09.897 \u001b[0m\u001b[32m[13/model/88 (pid 17341)] \u001b[0m\u001b[22m(4529,)\u001b[0m\n",
      "\u001b[35m2023-05-08 04:40:10.151 \u001b[0m\u001b[32m[13/model/88 (pid 17341)] \u001b[0m\u001b[22m(4529,)\u001b[0m\n",
      "\u001b[35m2023-05-08 04:40:10.418 \u001b[0m\u001b[32m[13/model/88 (pid 17341)] \u001b[0m\u001b[22m(22641,)\u001b[0m\n",
      "\u001b[35m2023-05-08 04:40:11.281 \u001b[0m\u001b[32m[13/model/88 (pid 17341)] \u001b[0m\u001b[22mAbsolutely wonderful - silky and sexy and comfortable\u001b[0m\n",
      "\u001b[35m2023-05-08 04:40:11.282 \u001b[0m\u001b[32m[13/model/88 (pid 17341)] \u001b[0m\u001b[22mEpoch 1/10\u001b[0m\n",
      "566/566 [==============================] - 1s 1ms/step - loss: 0.5802 - accuracy: 0.7081 - val_loss: 0.5089 - val_accuracy: 0.7657\u001b[0m6969 - accuracy: 0.59\n",
      "\u001b[35m2023-05-08 04:40:12.122 \u001b[0m\u001b[32m[13/model/88 (pid 17341)] \u001b[0m\u001b[22mEpoch 2/10\u001b[0m\n",
      "566/566 [==============================] - 1s 922us/step - loss: 0.4931 - accuracy: 0.7726 - val_loss: 0.5005 - val_accuracy: 0.7693\u001b[0m - accuracy: 0.65\n",
      "\u001b[35m2023-05-08 04:40:12.645 \u001b[0m\u001b[32m[13/model/88 (pid 17341)] \u001b[0m\u001b[22mEpoch 3/10\u001b[0m\n",
      "566/566 [==============================] - 1s 922us/step - loss: 0.4817 - accuracy: 0.7775 - val_loss: 0.4983 - val_accuracy: 0.7717\u001b[0m - accuracy: 0.81\n",
      "\u001b[35m2023-05-08 04:40:13.167 \u001b[0m\u001b[32m[13/model/88 (pid 17341)] \u001b[0m\u001b[22mEpoch 4/10\u001b[0m\n",
      "566/566 [==============================] - 1s 926us/step - loss: 0.4699 - accuracy: 0.7877 - val_loss: 0.5024 - val_accuracy: 0.7730\u001b[0m - accuracy: 0.75\n",
      "\u001b[35m2023-05-08 04:40:13.693 \u001b[0m\u001b[32m[13/model/88 (pid 17341)] \u001b[0m\u001b[22mEpoch 5/10\u001b[0m\n",
      "566/566 [==============================] - 1s 931us/step - loss: 0.4660 - accuracy: 0.7947 - val_loss: 0.5005 - val_accuracy: 0.7717\u001b[0m - accuracy: 0.75\n",
      "\u001b[35m2023-05-08 04:40:14.220 \u001b[0m\u001b[32m[13/model/88 (pid 17341)] \u001b[0m\u001b[22mEpoch 6/10\u001b[0m\n",
      "566/566 [==============================] - 1s 973us/step - loss: 0.4531 - accuracy: 0.7975 - val_loss: 0.5083 - val_accuracy: 0.7697\u001b[0m - accuracy: 0.84\n",
      "\u001b[35m2023-05-08 04:40:14.772 \u001b[0m\u001b[32m[13/model/88 (pid 17341)] \u001b[0m\u001b[22mEpoch 7/10\u001b[0m\n",
      "566/566 [==============================] - 1s 934us/step - loss: 0.4363 - accuracy: 0.8100 - val_loss: 0.5127 - val_accuracy: 0.7637\u001b[0m - accuracy: 0.71\n",
      "\u001b[35m2023-05-08 04:40:15.301 \u001b[0m\u001b[32m[13/model/88 (pid 17341)] \u001b[0m\u001b[22mEpoch 8/10\u001b[0m\n",
      "566/566 [==============================] - 1s 974us/step - loss: 0.4404 - accuracy: 0.8115 - val_loss: 0.5208 - val_accuracy: 0.7633\u001b[0m - accuracy: 0.81\n",
      "\u001b[35m2023-05-08 04:40:15.853 \u001b[0m\u001b[32m[13/model/88 (pid 17341)] \u001b[0m\u001b[22mEpoch 9/10\u001b[0m\n",
      "566/566 [==============================] - 1s 948us/step - loss: 0.4282 - accuracy: 0.8160 - val_loss: 0.5270 - val_accuracy: 0.7677\u001b[0m - accuracy: 0.81\n",
      "\u001b[35m2023-05-08 04:40:16.390 \u001b[0m\u001b[32m[13/model/88 (pid 17341)] \u001b[0m\u001b[22mEpoch 10/10\u001b[0m\n",
      "566/566 [==============================] - 1s 918us/step - loss: 0.4128 - accuracy: 0.8254 - val_loss: 0.5442 - val_accuracy: 0.7567\u001b[0m - accuracy: 0.90\n",
      "\u001b[35m2023-05-08 04:40:16.915 \u001b[0m\u001b[32m[13/model/88 (pid 17341)] \u001b[0m\u001b[22m(4529,)\u001b[0m\n",
      "\u001b[35m2023-05-08 04:40:17.185 \u001b[0m\u001b[32m[13/model/88 (pid 17341)] \u001b[0m\u001b[22m(4529,)\u001b[0m\n",
      "\u001b[35m2023-05-08 04:40:20.020 \u001b[0m\u001b[32m[13/model/88 (pid 17341)] \u001b[0m\u001b[22m2023-05-08 04:39:58.376943: I tensorflow/core/platform/profile_utils/cpu_utils.cc:112] CPU Frequency: 2499995000 Hz\u001b[0m\n",
      "\u001b[35m2023-05-08 04:40:20.236 \u001b[0m\u001b[32m[13/model/88 (pid 17341)] \u001b[0m\u001b[1mTask finished successfully.\u001b[0m\n",
      "\u001b[35m2023-05-08 04:40:20.604 \u001b[0m\u001b[32m[13/aggregate/89 (pid 17665)] \u001b[0m\u001b[1mTask is starting.\u001b[0m\n",
      "\u001b[35m2023-05-08 04:40:23.543 \u001b[0m\u001b[32m[13/aggregate/89 (pid 17665)] \u001b[0m\u001b[22mModelResult(name='Baseline', params='Always predict 1', pathspec='BaselineChallenge/13/baseline/87', acc=0.5475822477368072, rocauc=0.5)\u001b[0m\n",
      "\u001b[35m2023-05-08 04:40:23.584 \u001b[0m\u001b[32m[13/aggregate/89 (pid 17665)] \u001b[0m\u001b[22mModelResult(name='NbowModel - vocab_sz: 100', params={'vocab_sz': 100}, pathspec='BaselineChallenge/13/model/88', acc=0.7341576506955177, rocauc=0.8060901068971489)\u001b[0m\n",
      "\u001b[35m2023-05-08 04:40:23.584 \u001b[0m\u001b[32m[13/aggregate/89 (pid 17665)] \u001b[0m\u001b[22mModelResult(name='NbowModel - vocab_sz: 300', params={'vocab_sz': 300}, pathspec='BaselineChallenge/13/model/88', acc=0.8048134245970413, rocauc=0.8873792684078781)\u001b[0m\n",
      "\u001b[35m2023-05-08 04:40:26.377 \u001b[0m\u001b[32m[13/aggregate/89 (pid 17665)] \u001b[0m\u001b[22mModelResult(name='NbowModel - vocab_sz: 500', params={'vocab_sz': 500}, pathspec='BaselineChallenge/13/model/88', acc=0.8238021638330757, rocauc=0.9083583258552558)\u001b[0m\n",
      "\u001b[35m2023-05-08 04:40:26.551 \u001b[0m\u001b[32m[13/aggregate/89 (pid 17665)] \u001b[0m\u001b[1mTask finished successfully.\u001b[0m\n",
      "\u001b[35m2023-05-08 04:40:26.885 \u001b[0m\u001b[32m[13/end/90 (pid 17767)] \u001b[0m\u001b[1mTask is starting.\u001b[0m\n",
      "\u001b[35m2023-05-08 04:40:29.370 \u001b[0m\u001b[32m[13/end/90 (pid 17767)] \u001b[0m\u001b[1mTask finished successfully.\u001b[0m\n",
      "\u001b[35m2023-05-08 04:40:29.501 \u001b[0m\u001b[1mDone! See the run in the UI at https://ui-pw-1752302777.outerbounds.dev/BaselineChallenge/13\u001b[0m\n"
     ]
    }
   ],
   "source": [
    "! python baseline_challenge.py run --data \"../../full-stack-ml-metaflow-corise-week-1/data/Womens Clothing E-Commerce Reviews.csv\""
   ]
  },
  {
   "cell_type": "code",
   "execution_count": 11,
   "metadata": {},
   "outputs": [
    {
     "name": "stdout",
     "output_type": "stream",
     "text": [
      "True\n"
     ]
    }
   ],
   "source": [
    "from metaflow import Flow, Step\n",
    "name = 'BaselineChallenge'\n",
    "run = Flow(name).latest_run\n",
    "print(run.successful)"
   ]
  },
  {
   "cell_type": "code",
   "execution_count": 12,
   "metadata": {},
   "outputs": [
    {
     "name": "stdout",
     "output_type": "stream",
     "text": [
      "Run('BaselineChallenge/13')\n"
     ]
    }
   ],
   "source": [
    "print(run)"
   ]
  },
  {
   "cell_type": "code",
   "execution_count": 13,
   "metadata": {},
   "outputs": [
    {
     "data": {
      "text/plain": [
       "['add_tag',\n",
       " 'add_tags',\n",
       " 'code',\n",
       " 'created_at',\n",
       " 'data',\n",
       " 'end_task',\n",
       " 'finished',\n",
       " 'finished_at',\n",
       " 'id',\n",
       " 'is_in_namespace',\n",
       " 'origin_pathspec',\n",
       " 'parent',\n",
       " 'path_components',\n",
       " 'pathspec',\n",
       " 'remove_tag',\n",
       " 'remove_tags',\n",
       " 'replace_tag',\n",
       " 'replace_tags',\n",
       " 'steps',\n",
       " 'successful',\n",
       " 'system_tags',\n",
       " 'tags',\n",
       " 'user_tags']"
      ]
     },
     "execution_count": 13,
     "metadata": {},
     "output_type": "execute_result"
    }
   ],
   "source": [
    "[e for e in dir(run) if not e.startswith('_')]"
   ]
  },
  {
   "cell_type": "code",
   "execution_count": 14,
   "metadata": {},
   "outputs": [
    {
     "data": {
      "text/plain": [
       "[Step('BaselineChallenge/13/end'),\n",
       " Step('BaselineChallenge/13/aggregate'),\n",
       " Step('BaselineChallenge/13/model'),\n",
       " Step('BaselineChallenge/13/baseline'),\n",
       " Step('BaselineChallenge/13/start')]"
      ]
     },
     "execution_count": 14,
     "metadata": {},
     "output_type": "execute_result"
    }
   ],
   "source": [
    "list(run.steps())"
   ]
  },
  {
   "cell_type": "code",
   "execution_count": 15,
   "metadata": {},
   "outputs": [
    {
     "data": {
      "text/plain": [
       "['control_task',\n",
       " 'control_tasks',\n",
       " 'created_at',\n",
       " 'environment_info',\n",
       " 'finished_at',\n",
       " 'id',\n",
       " 'is_in_namespace',\n",
       " 'origin_pathspec',\n",
       " 'parent',\n",
       " 'path_components',\n",
       " 'pathspec',\n",
       " 'system_tags',\n",
       " 'tags',\n",
       " 'task',\n",
       " 'tasks',\n",
       " 'user_tags']"
      ]
     },
     "execution_count": 15,
     "metadata": {},
     "output_type": "execute_result"
    }
   ],
   "source": [
    "[e for e in dir(Step('BaselineChallenge/11/model')) if not e.startswith('_')]"
   ]
  },
  {
   "cell_type": "code",
   "execution_count": 16,
   "metadata": {},
   "outputs": [
    {
     "data": {
      "text/plain": [
       "['__class__',\n",
       " '__contains__',\n",
       " '__delattr__',\n",
       " '__dict__',\n",
       " '__dir__',\n",
       " '__doc__',\n",
       " '__eq__',\n",
       " '__format__',\n",
       " '__ge__',\n",
       " '__getattr__',\n",
       " '__getattribute__',\n",
       " '__gt__',\n",
       " '__hash__',\n",
       " '__init__',\n",
       " '__init_subclass__',\n",
       " '__le__',\n",
       " '__lt__',\n",
       " '__module__',\n",
       " '__ne__',\n",
       " '__new__',\n",
       " '__reduce__',\n",
       " '__reduce_ex__',\n",
       " '__repr__',\n",
       " '__setattr__',\n",
       " '__sizeof__',\n",
       " '__str__',\n",
       " '__subclasshook__',\n",
       " '__weakref__',\n",
       " '_artifacts']"
      ]
     },
     "execution_count": 16,
     "metadata": {},
     "output_type": "execute_result"
    }
   ],
   "source": [
    "dir(run.data)"
   ]
  },
  {
   "cell_type": "code",
   "execution_count": 17,
   "metadata": {},
   "outputs": [
    {
     "data": {
      "text/plain": [
       "{'name': DataArtifact('BaselineChallenge/13/end/90/name'),\n",
       " 'split_size': DataArtifact('BaselineChallenge/13/end/90/split_size'),\n",
       " 'scoring': DataArtifact('BaselineChallenge/13/end/90/scoring'),\n",
       " 'kfold': DataArtifact('BaselineChallenge/13/end/90/kfold'),\n",
       " 'data': DataArtifact('BaselineChallenge/13/end/90/data')}"
      ]
     },
     "execution_count": 17,
     "metadata": {},
     "output_type": "execute_result"
    }
   ],
   "source": [
    "run.data._artifacts"
   ]
  },
  {
   "cell_type": "code",
   "execution_count": 18,
   "metadata": {},
   "outputs": [
    {
     "data": {
      "text/plain": [
       "Step('BaselineChallenge/11/model')"
      ]
     },
     "execution_count": 18,
     "metadata": {},
     "output_type": "execute_result"
    }
   ],
   "source": [
    "Step('BaselineChallenge/11/model')"
   ]
  },
  {
   "cell_type": "code",
   "execution_count": null,
   "metadata": {},
   "outputs": [],
   "source": []
  }
 ],
 "metadata": {
  "kernelspec": {
   "display_name": "full-stack-metaflow-corise",
   "language": "python",
   "name": "python3"
  },
  "language_info": {
   "codemirror_mode": {
    "name": "ipython",
    "version": 3
   },
   "file_extension": ".py",
   "mimetype": "text/x-python",
   "name": "python",
   "nbconvert_exporter": "python",
   "pygments_lexer": "ipython3",
   "version": "3.8.15"
  },
  "orig_nbformat": 4
 },
 "nbformat": 4,
 "nbformat_minor": 2
}
